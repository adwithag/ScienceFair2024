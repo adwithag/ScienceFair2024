{
 "cells": [
  {
   "cell_type": "code",
   "execution_count": 1,
   "id": "c1f8e609-002a-461c-9feb-75e4b6a75bd9",
   "metadata": {},
   "outputs": [],
   "source": [
    "import numpy as np\n",
    "import pandas as pd\n",
    "import scipy\n",
    "from rdkit.Chem import PandasTools\n",
    "from rdkit import DataStructs\n",
    "from rdkit.Chem import AllChem, MolFromSmiles, Draw\n",
    "import xgboost as xgb\n",
    "from xgboost import XGBClassifier\n",
    "import pickle\n",
    "from shiny import App, render, ui"
   ]
  },
  {
   "cell_type": "code",
   "execution_count": 3,
   "id": "21ea656f-b0e7-41ca-b39a-b02571e6164c",
   "metadata": {},
   "outputs": [],
   "source": [
    "# list of cytochrome p-450 enzymes\n",
    "cyps = ['CYP2C19', 'CYP2D6', 'CYP3A4', 'CYP1A2', 'CYP2C9', 'CYP23A4']\n",
    "\n",
    "ml_models = {}\n",
    "for cyp in cyps:\n",
    "    with open(\"model_\"+cyp, 'rb') as file:\n",
    "        ml_models[cyp] = pickle.load(file)\n"
   ]
  },
  {
   "cell_type": "code",
   "execution_count": 9,
   "id": "ff6dd389-3b95-400f-ad14-776fda6c8a22",
   "metadata": {},
   "outputs": [],
   "source": [
    "def customPredict(s, ml_models, cyps) -> pd.DataFrame:\n",
    "    \"\"\" Predicts if a given molcule inhibits CYP or not.\n",
    "\n",
    "     Args:\n",
    "         s: SMILES representation of a molecule.\n",
    "         ml_models: ML Models for each CYP Enzyme\n",
    "         cyps : List of CYP450 enzymes\n",
    "     Returns:\n",
    "         A Dataframe the contains CYP Enzymes and Predictions.\n",
    "    \"\"\"\n",
    "    cyps = ['CYP2C19', 'CYP2D6', 'CYP3A4', 'CYP1A2', 'CYP2C9', 'CYP23A4']\n",
    "    mol = MolFromSmiles(s)\n",
    "    fp = AllChem.GetMorganFingerprintAsBitVect(mol, 2, nBits=2048)\n",
    "    arr = np.zeros((1,), dtype=np.int8)\n",
    "    DataStructs.ConvertToNumpyArray(fp, arr)\n",
    "    preds = ['Yes' if ml_models[i].predict(np.stack([arr]))[0] == 1 else 'No' for i in cyps]\n",
    "    # pred = xgb_model.predict(np.stack([arr]))[0]\n",
    "\n",
    "    return pd.DataFrame({'CYP450' : cyps, 'Inhibition' : preds})\n",
    "\n"
   ]
  },
  {
   "cell_type": "code",
   "execution_count": 10,
   "id": "43d40e25-dee1-40a3-a1fe-f203d52653f4",
   "metadata": {},
   "outputs": [],
   "source": [
    "s = 'NC(=O)C1=CN([C@@H]2O[C@@H](COP(=O)([O-])OP(=O)([O-])OC[C@@H]3O[C@H](n4cnc5c(N)ncnc54)[C@@H](OP(=O)([O-])[O-])[C@@H]3O)[C@H](O)[C@@H]2O)C=CC1.[Na+].[Na+].[Na+].[Na+]'"
   ]
  },
  {
   "cell_type": "code",
   "execution_count": 11,
   "id": "8f02d995-c469-45ef-9be1-aad27abe9d74",
   "metadata": {},
   "outputs": [
    {
     "data": {
      "text/html": [
       "<div>\n",
       "<style scoped>\n",
       "    .dataframe tbody tr th:only-of-type {\n",
       "        vertical-align: middle;\n",
       "    }\n",
       "\n",
       "    .dataframe tbody tr th {\n",
       "        vertical-align: top;\n",
       "    }\n",
       "\n",
       "    .dataframe thead th {\n",
       "        text-align: right;\n",
       "    }\n",
       "</style>\n",
       "<table border=\"1\" class=\"dataframe\">\n",
       "  <thead>\n",
       "    <tr style=\"text-align: right;\">\n",
       "      <th></th>\n",
       "      <th>CYP450</th>\n",
       "      <th>Inhibition</th>\n",
       "    </tr>\n",
       "  </thead>\n",
       "  <tbody>\n",
       "    <tr>\n",
       "      <th>0</th>\n",
       "      <td>CYP2C19</td>\n",
       "      <td>No</td>\n",
       "    </tr>\n",
       "    <tr>\n",
       "      <th>1</th>\n",
       "      <td>CYP2D6</td>\n",
       "      <td>No</td>\n",
       "    </tr>\n",
       "    <tr>\n",
       "      <th>2</th>\n",
       "      <td>CYP3A4</td>\n",
       "      <td>No</td>\n",
       "    </tr>\n",
       "    <tr>\n",
       "      <th>3</th>\n",
       "      <td>CYP1A2</td>\n",
       "      <td>No</td>\n",
       "    </tr>\n",
       "    <tr>\n",
       "      <th>4</th>\n",
       "      <td>CYP2C9</td>\n",
       "      <td>No</td>\n",
       "    </tr>\n",
       "    <tr>\n",
       "      <th>5</th>\n",
       "      <td>CYP23A4</td>\n",
       "      <td>No</td>\n",
       "    </tr>\n",
       "  </tbody>\n",
       "</table>\n",
       "</div>"
      ],
      "text/plain": [
       "    CYP450 Inhibition\n",
       "0  CYP2C19         No\n",
       "1   CYP2D6         No\n",
       "2   CYP3A4         No\n",
       "3   CYP1A2         No\n",
       "4   CYP2C9         No\n",
       "5  CYP23A4         No"
      ]
     },
     "execution_count": 11,
     "metadata": {},
     "output_type": "execute_result"
    }
   ],
   "source": [
    "customPredict(s, ml_models, cyps)"
   ]
  },
  {
   "cell_type": "code",
   "execution_count": null,
   "id": "969fc79a-d722-45ed-8663-f947885c2b00",
   "metadata": {},
   "outputs": [],
   "source": []
  },
  {
   "cell_type": "code",
   "execution_count": 7,
   "id": "27abc1f4-88a8-423f-b150-3ad2da882a2c",
   "metadata": {},
   "outputs": [],
   "source": [
    "def compute_fingerprint(s, r, nBits) -> np.ndarray:\n",
    "    \"\"\"Featurize Rdkit Mol into Morgan Fingerprint bit vectors.\n",
    "\n",
    "     Args:\n",
    "         s: SMILES representation of a molecule.\n",
    "         r: radius\n",
    "         nBits: Bit Vector Length\n",
    "\n",
    "     Returns:\n",
    "         numpy.ndarray: A 1-D numpy array of the featurized molecule.\n",
    "    \"\"\"\n",
    "    mol = MolFromSmiles(s)\n",
    "    fp = AllChem.GetMorganFingerprintAsBitVect(mol, r, nBits=nBits)\n",
    "    arr = np.zeros((1,), dtype=np.int8)\n",
    "    DataStructs.ConvertToNumpyArray(fp, arr)\n",
    "    return arr"
   ]
  },
  {
   "cell_type": "code",
   "execution_count": 41,
   "id": "61736672-b0af-4fc9-812b-b3ae65b2f8e2",
   "metadata": {},
   "outputs": [],
   "source": [
    "def customPredict(s) -> int:\n",
    "    \"\"\"Predicts if a given molcule inhibits CYP or not.\n",
    "\n",
    "     Args:\n",
    "         s: SMILES representation of a molecule.\n",
    "         \n",
    "\n",
    "     Returns:\n",
    "         0 or 1.\n",
    "    \"\"\"\n",
    "    mol = MolFromSmiles(s)\n",
    "    fp = AllChem.GetMorganFingerprintAsBitVect(mol, 2, nBits=2048)\n",
    "    arr = np.zeros((1,), dtype=np.int8)\n",
    "    DataStructs.ConvertToNumpyArray(fp, arr)\n",
    "    pred = xgb_model.predict(np.stack([arr]))[0]\n",
    "    return pred\n",
    "def mol_to_image(s):\n",
    "    \"\"\"Transforms SMILES Representation to an Image.\n",
    "\n",
    "     Args:\n",
    "         s: SMILES representation of a molecule.\n",
    "         \n",
    "\n",
    "     Returns:\n",
    "         Image of a given molecule.\n",
    "    \"\"\"\n",
    "    mol = MolFromSmiles(s)\n",
    "    img = Draw.MolToImage(mol)\n",
    "    return img\n",
    "    "
   ]
  },
  {
   "cell_type": "code",
   "execution_count": 42,
   "id": "6b0b2756-8be5-4ed5-b1c4-fce35dd3e454",
   "metadata": {},
   "outputs": [
    {
     "data": {
      "text/plain": [
       "0"
      ]
     },
     "execution_count": 42,
     "metadata": {},
     "output_type": "execute_result"
    }
   ],
   "source": [
    "customPredict('NC(=O)C1=CN([C@@H]2O[C@@H](COP(=O)([O-])OP(=O)([O-])OC[C@@H]3O[C@H](n4cnc5c(N)ncnc54)[C@@H](OP(=O)([O-])[O-])[C@@H]3O)[C@H](O)[C@@H]2O)C=CC1.[Na+].[Na+].[Na+].[Na+]')"
   ]
  },
  {
   "cell_type": "code",
   "execution_count": 29,
   "id": "1b11ac19-657c-40d7-91be-e72acdaabf3b",
   "metadata": {},
   "outputs": [],
   "source": [
    "m = MolFromSmiles('NC(=O)C1=CN([C@@H]2O[C@@H](COP(=O)([O-])OP(=O)([O-])OC[C@@H]3O[C@H](n4cnc5c(N)ncnc54)[C@@H](OP(=O)([O-])[O-])[C@@H]3O)[C@H](O)[C@@H]2O)C=CC1.[Na+].[Na+].[Na+].[Na+]')"
   ]
  },
  {
   "cell_type": "code",
   "execution_count": 30,
   "id": "ed9574ae-64cb-4998-ba44-e251c157f56f",
   "metadata": {
    "scrolled": true
   },
   "outputs": [
    {
     "data": {
      "image/png": "[encoded data removed]",
      "text/plain": [
       "<rdkit.Chem.rdchem.Mol at 0x14faafed0>"
      ]
     },
     "execution_count": 30,
     "metadata": {},
     "output_type": "execute_result"
    }
   ],
   "source": [
    "m"
   ]
  },
  {
   "cell_type": "code",
   "execution_count": 43,
   "id": "c40ef7d6-596f-4289-bd4e-9e36acc31361",
   "metadata": {},
   "outputs": [],
   "source": [
    "img = Draw.MolToImage(m)"
   ]
  },
  {
   "cell_type": "code",
   "execution_count": 44,
   "id": "552794c9-3971-42ee-bb8e-b21930490c7f",
   "metadata": {},
   "outputs": [
    {
     "data": {
      "image/jpeg": "[encoded data removed]",
      "image/png": "[encoded data removed]",
      "text/plain": [
       "<PIL.PngImagePlugin.PngImageFile image mode=RGB size=300x300>"
      ]
     },
     "execution_count": 44,
     "metadata": {},
     "output_type": "execute_result"
    }
   ],
   "source": [
    "img"
   ]
  },
  {
   "cell_type": "code",
   "execution_count": 27,
   "id": "df2545ed-39dd-4ace-9c40-8c0c5b461f00",
   "metadata": {},
   "outputs": [],
   "source": [
    "fp = compute_fingerprint('NC(=O)C1=CN([C@@H]2O[C@@H](COP(=O)([O-])OP(=O)([O-])OC[C@@H]3O[C@H](n4cnc5c(N)ncnc54)[C@@H](OP(=O)([O-])[O-])[C@@H]3O)[C@H](O)[C@@H]2O)C=CC1.[Na+].[Na+].[Na+].[Na+]', 2, 2048)"
   ]
  },
  {
   "cell_type": "code",
   "execution_count": 28,
   "id": "0fe276cd-6681-43a9-a237-05ba09a88a41",
   "metadata": {},
   "outputs": [
    {
     "data": {
      "text/plain": [
       "75"
      ]
     },
     "execution_count": 28,
     "metadata": {},
     "output_type": "execute_result"
    }
   ],
   "source": [
    "sum(fp)"
   ]
  },
  {
   "cell_type": "code",
   "execution_count": 26,
   "id": "27332624-41a3-42a8-a87c-477c7973162a",
   "metadata": {},
   "outputs": [
    {
     "data": {
      "text/plain": [
       "(1, 2048)"
      ]
     },
     "execution_count": 26,
     "metadata": {},
     "output_type": "execute_result"
    }
   ],
   "source": [
    "np.stack([fp]).shape"
   ]
  },
  {
   "cell_type": "code",
   "execution_count": 21,
   "id": "84d3bc3c-9297-4f8b-89f0-47afbea76558",
   "metadata": {},
   "outputs": [
    {
     "data": {
      "text/plain": [
       "(2048,)"
      ]
     },
     "execution_count": 21,
     "metadata": {},
     "output_type": "execute_result"
    }
   ],
   "source": [
    "fp.shape"
   ]
  },
  {
   "cell_type": "code",
   "execution_count": 15,
   "id": "b8d57592-072f-491f-be4e-d5cd225d90de",
   "metadata": {},
   "outputs": [],
   "source": [
    "with open(\"model_CYP3A4\", 'rb') as file:\n",
    "    xgb_model = pickle.load(file)"
   ]
  },
  {
   "cell_type": "code",
   "execution_count": 40,
   "id": "16e5bab3-06db-430d-8983-8498f8999232",
   "metadata": {},
   "outputs": [
    {
     "data": {
      "text/plain": [
       "0"
      ]
     },
     "execution_count": 40,
     "metadata": {},
     "output_type": "execute_result"
    }
   ],
   "source": [
    "xgb_model.predict(np.stack([fp]))[0]"
   ]
  },
  {
   "cell_type": "code",
   "execution_count": 32,
   "id": "25ab0df8-1f09-4a6b-afd9-c07f6756d3e8",
   "metadata": {},
   "outputs": [
    {
     "data": {
      "text/plain": [
       "array([0.00035123], dtype=float32)"
      ]
     },
     "execution_count": 32,
     "metadata": {},
     "output_type": "execute_result"
    }
   ],
   "source": [
    "xgb_model.predict_proba(np.stack([fp]))[:, 1]"
   ]
  },
  {
   "cell_type": "code",
   "execution_count": 33,
   "id": "1206238d-e9ab-4f6a-96fd-013220d83a3d",
   "metadata": {},
   "outputs": [],
   "source": [
    "m1 = MolFromSmiles('NS(=O)(=O)c1cccc2c1c([N+](=O)[O-])cc1nc([O-])c([O-])nc12.[Na+].[Na+]')"
   ]
  },
  {
   "cell_type": "code",
   "execution_count": 34,
   "id": "394eb796-4da3-4640-8050-3c750d6ecbd2",
   "metadata": {},
   "outputs": [
    {
     "data": {
      "image/png": "[encoded data removed]",
      "text/plain": [
       "<rdkit.Chem.rdchem.Mol at 0x14ffb0f20>"
      ]
     },
     "execution_count": 34,
     "metadata": {},
     "output_type": "execute_result"
    }
   ],
   "source": [
    "m1"
   ]
  },
  {
   "cell_type": "code",
   "execution_count": 35,
   "id": "0ee6cee2-e567-435c-8b30-8a9b29c49a40",
   "metadata": {},
   "outputs": [],
   "source": [
    "fp_1 = compute_fingerprint('NS(=O)(=O)c1cccc2c1c([N+](=O)[O-])cc1nc([O-])c([O-])nc12.[Na+].[Na+]', 2, 2048)"
   ]
  },
  {
   "cell_type": "code",
   "execution_count": 36,
   "id": "e25ab524-62c6-4927-84d3-43044e1b3999",
   "metadata": {},
   "outputs": [
    {
     "data": {
      "text/plain": [
       "array([0.03393367], dtype=float32)"
      ]
     },
     "execution_count": 36,
     "metadata": {},
     "output_type": "execute_result"
    }
   ],
   "source": [
    "xgb_model.predict_proba(np.stack([fp_1]))[:, 1]"
   ]
  },
  {
   "cell_type": "code",
   "execution_count": null,
   "id": "bea36a9c-229f-40c2-ae44-ae24eda54666",
   "metadata": {},
   "outputs": [],
   "source": []
  }
 ],
 "metadata": {
  "kernelspec": {
   "display_name": "mlddenv",
   "language": "python",
   "name": "mlddenv"
  },
  "language_info": {
   "codemirror_mode": {
    "name": "ipython",
    "version": 3
   },
   "file_extension": ".py",
   "mimetype": "text/x-python",
   "name": "python",
   "nbconvert_exporter": "python",
   "pygments_lexer": "ipython3",
   "version": "3.11.8"
  }
 },
 "nbformat": 4,
 "nbformat_minor": 5
}
