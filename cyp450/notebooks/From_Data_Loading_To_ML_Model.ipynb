{
 "cells": [
  {
   "cell_type": "code",
   "execution_count": 1,
   "id": "c9b8ab00-531d-46b7-ad51-ebc5a74a5822",
   "metadata": {},
   "outputs": [],
   "source": [
    "import math\n",
    "from pathlib import Path\n",
    "from zipfile import ZipFile\n",
    "from tempfile import TemporaryDirectory\n",
    "\n",
    "import numpy as np\n",
    "import pandas as pd\n",
    "import scipy\n",
    "from rdkit.Chem import PandasTools\n",
    "from sklearn import metrics\n",
    "import matplotlib.pyplot as plt\n",
    "from tqdm.auto import tqdm\n",
    "import matplotlib as mpl\n",
    "import seaborn as sns\n",
    "from tdc.single_pred import HTS\n",
    "from tdc.single_pred import ADME\n",
    "from rdkit import DataStructs\n",
    "from rdkit.Chem import AllChem, MolFromSmiles, Draw\n",
    "import xgboost as xgb\n",
    "from sklearn.metrics import accuracy_score, precision_score, recall_score, roc_curve, auc, precision_recall_curve, average_precision_score\n",
    "from xgboost import XGBClassifier\n",
    "import pickle"
   ]
  },
  {
   "cell_type": "code",
   "execution_count": 2,
   "id": "486377f9-0be3-44b6-a16b-d820eebe5535",
   "metadata": {},
   "outputs": [],
   "source": [
    "\n",
    "# list of cytochrome p-450 enzymes\n",
    "cyps = ['CYP2C19', 'CYP2D6', 'CYP3A4', 'CYP1A2', 'CYP2C9', 'CYP23A4']\n",
    "# fit ML Models for all the above enzymes and evaluate their results\n"
   ]
  },
  {
   "cell_type": "code",
   "execution_count": 3,
   "id": "05d223c1-34c2-4e19-a26e-dc7de9140f4d",
   "metadata": {},
   "outputs": [],
   "source": [
    "def data_load_and_prep(cyp_name):\n",
    "    \"\"\"Load the data for given cyp enzyme and splits that data into train, validation and test\n",
    "\n",
    "     Args:\n",
    "         cyp_name: CPY 450 Enzyme Name.\n",
    "\n",
    "     Returns:\n",
    "         list of DataFrames: Train, Validation and Test Dataframes.\n",
    "    \"\"\"\n",
    "    data = ADME(name = cyp_name+'_Veith')\n",
    "    splits = data.get_split('scaffold')\n",
    "    train_df, val_df, test_df = splits['train'], splits['valid'], splits['test']\n",
    "    print(train_df.shape)\n",
    "    return train_df, val_df, test_df\n",
    "\n",
    "\n",
    "def compute_fingerprint(mol, r, nBits) -> np.ndarray:\n",
    "    \"\"\"Featurize Rdkit Mol into Morgan Fingerprint bit vectors.\n",
    "\n",
    "     Args:\n",
    "         mol: an Rdkit Mol object (representing a molecule).\n",
    "         r: radius\n",
    "         nBits: Bit Vector Length\n",
    "\n",
    "     Returns:\n",
    "         numpy.ndarray: A 1-D numpy array of the featurized molecule.\n",
    "    \"\"\"\n",
    "    fp = AllChem.GetMorganFingerprintAsBitVect(mol, r, nBits=nBits)\n",
    "    arr = np.zeros((1,), dtype=np.int8)\n",
    "    DataStructs.ConvertToNumpyArray(fp, arr)\n",
    "    return arr\n",
    "\n",
    "def process_df(df):\n",
    "    \"\"\"Process the Dataframe.\n",
    "\n",
    "     Args:\n",
    "         df: Dataframe to be processed\n",
    "\n",
    "     Returns:\n",
    "         df: Processed df.\n",
    "         fingerprints: fingerprints array for all the molecules in the dataframe \n",
    "    \"\"\"\n",
    "    df = df.rename(columns={'Y':'Inhibition'})\n",
    "    PandasTools.AddMoleculeColumnToFrame(df, \"Drug\", \"Molecule\")\n",
    "    df = df.dropna()\n",
    "    fingerprints = np.stack([compute_fingerprint(mol, 2, 2048) for mol in df.Molecule])\n",
    "    df['fingerprints'] = df['Molecule'].apply(compute_fingerprint, r=2, nBits=2048)\n",
    "\n",
    "    return df, fingerprints\n",
    "    \n",
    "    \n",
    "def fit_xgb_model(fingerprints,\n",
    "                  target,\n",
    "                  max_depth = 50,\n",
    "                  n_estimators = 500\n",
    "                 ):\n",
    "    \"\"\"Process the Dataframe.\n",
    "\n",
    "     Args:\n",
    "         fingerprints: Morgan Fingerprints ndarray for all the molecules in a dataframe\n",
    "         target: A binary label vector\n",
    "         max_depth: MAxmimum depth of a tree\n",
    "         n_estimators: number of rounds for boosting \n",
    "\n",
    "     Returns:\n",
    "         An XGBoost Binary Classification Model that provides the probability of a moelcules ability to inhibit CYP450 \n",
    "    \"\"\"\n",
    "    # declare parameters\n",
    "    params = {\n",
    "                'objective':'binary:logistic',\n",
    "                'max_depth': max_depth,\n",
    "                'colsample_bytree' : 0.7,\n",
    "                'sub_sample' : 0.5,\n",
    "                'learning_rate': 0.05,\n",
    "                'n_estimators':n_estimators,\n",
    "                'eval_metric' : 'logloss'\n",
    "            }\n",
    "            \n",
    "    # instantiate the classifier \n",
    "    xgb_clf = XGBClassifier(**params)\n",
    "    # fit the classifier to the training data\n",
    "    xgb_clf.fit(fingerprints, target)\n",
    "    return xgb_clf\n",
    "\n",
    "\n",
    "def validate_model(xgb_model,\n",
    "                   fingerprints,\n",
    "                   target,\n",
    "                   name = 'test'):\n",
    "    \n",
    "    # make predictions on test data\n",
    "    predictions = xgb_model.predict(fingerprints)\n",
    "    accuracy = accuracy_score(target, predictions)\n",
    "    precision = precision_score(target, predictions)\n",
    "    recall = recall_score(target, predictions)\n",
    "    prevalence = sum(target)/len(target)\n",
    "    print(name+' dataset\\n')\n",
    "    print('Accuracy : {0:0.4f}'. format(accuracy))\n",
    "    print(f\"Precision: {precision:.2f}\")               \n",
    "    print(f\"Recall: {recall:.2f}\")\n",
    "    print(f\"Prevalence: {prevalence:.2f}\")\n",
    "    metrics_dict = {'accuracy' : accuracy,\n",
    "                   'precision' : precision,\n",
    "                   'recall' : recall,\n",
    "                   'prevalence' : prevalence}\n",
    "                   \n",
    "    return predictions, metrics_dict\n",
    "\n",
    "def roc_pr_curve(xgb_model,\n",
    "              test_data_fp,\n",
    "              target,\n",
    "                 cyp_name,\n",
    "              curve = \"roc\",\n",
    "              label = 'ROC curve (area = %0.2f)',\n",
    "              x_label = 'False Positive Rate',\n",
    "              y_label = 'True Positive Rate',\n",
    "              title = 'Receiver Operating Characteristic (ROC)'\n",
    "                \n",
    "             ):\n",
    "    probs = xgb_model.predict_proba(test_data_fp)[:, 1]\n",
    "    plt.figure(figsize=(5, 3))\n",
    "    if curve == \"roc\":\n",
    "        x, y, thresholds = roc_curve(target, probs)\n",
    "        plot_data = auc(x, y)\n",
    "        plt.plot([0, 1], [0, 1], color='navy', lw=2, linestyle='--')\n",
    "    else:\n",
    "        y, x, _ = precision_recall_curve(target, probs)\n",
    "        plot_data = average_precision_score(target, probs)\n",
    "    \n",
    "    plt.plot(x, y, color='darkorange', lw=2, label= label % plot_data)\n",
    "    plt.xlim([0.0, 1.0])\n",
    "    plt.ylim([0.0, 1.05])\n",
    "    plt.xlabel(x_label)\n",
    "    plt.ylabel(y_label)\n",
    "    plt.title(title+\" \"+cyp_name)\n",
    "    plt.legend(loc=\"lower right\")\n",
    "    # plt.show()\n",
    "    plt.savefig('./ML/'+curve+'_curve_'+cyp_name+'.png', bbox_inches='tight')\n",
    "    plt.close()\n"
   ]
  },
  {
   "cell_type": "code",
   "execution_count": 5,
   "id": "e8d4920f-9c43-4354-93d7-500d0b0979b0",
   "metadata": {},
   "outputs": [],
   "source": [
    "# CYP2C19\n",
    "def from_load_to_model(cyp_name):\n",
    "    train_data, val_data, test_data = data_load_and_prep(cyp_name)\n",
    "    train_data, train_fingerprints = process_df(train_data)\n",
    "    val_data, val_fingerprints = process_df(val_data)\n",
    "    test_data, test_fingerprints = process_df(test_data)\n",
    "    \n",
    "    # fit XGBoost model\n",
    "    xgb_model = fit_xgb_model(train_fingerprints,\n",
    "                            train_data.Inhibition,\n",
    "                            max_depth = 15,\n",
    "                            n_estimators = 2000)\n",
    "    \n",
    "    # Save the model using pickle\n",
    "    with open('./ML/model_'+cyp_name, 'wb') as file:\n",
    "        pickle.dump(xgb_model, file)\n",
    "\n",
    "    # Evaluate the model\n",
    "    metrics_val = validate_model(xgb_model,\n",
    "                       val_fingerprints,\n",
    "                       val_data.Inhibition,\n",
    "                       name = 'val'+\"_\"+cyp_name)\n",
    "    metrics_test = validate_model(xgb_model,\n",
    "                       test_fingerprints,\n",
    "                       test_data.Inhibition,\n",
    "                       name = 'test'+\"_\"+cyp_name)\n",
    "\n",
    "    # plot ROC curve\n",
    "    roc_pr_curve(xgb_model,\n",
    "                  test_fingerprints,\n",
    "                  test_data.Inhibition,\n",
    "                  cyp_name = cyp_name,\n",
    "                  curve = \"roc\",\n",
    "                  label = 'ROC curve (area = %0.2f)',\n",
    "                  x_label = 'False Positive Rate',\n",
    "                  y_label = 'True Positive Rate',\n",
    "                  title = 'Receiver Operating Characteristic (ROC)'\n",
    "                 )\n",
    "    # plot PR Curve\n",
    "    roc_pr_curve(xgb_model,\n",
    "                 test_fingerprints,\n",
    "                 test_data.Inhibition,\n",
    "                 cyp_name = cyp_name,\n",
    "                 curve = \"pr\",\n",
    "                 label = 'PRC curve (area = %0.2f)',\n",
    "                 x_label = 'Recall',\n",
    "                 y_label = 'Precision',\n",
    "                 title = 'Precision-Recall Curve'\n",
    "             )\n",
    "    return test_data, metrics_val, metrics_test, xgb_model\n",
    "    "
   ]
  },
  {
   "cell_type": "code",
   "execution_count": 6,
   "id": "36927a4b-3c35-48fa-8f9f-357a1303b064",
   "metadata": {},
   "outputs": [
    {
     "data": {
      "text/plain": [
       "['CYP2C19', 'CYP2D6', 'CYP3A4', 'CYP1A2', 'CYP2C9', 'CYP23A4']"
      ]
     },
     "execution_count": 6,
     "metadata": {},
     "output_type": "execute_result"
    }
   ],
   "source": [
    "cyps"
   ]
  },
  {
   "cell_type": "code",
   "execution_count": 7,
   "id": "21d0a02e-a0d0-40ea-b8c5-506fd1146b67",
   "metadata": {},
   "outputs": [
    {
     "name": "stderr",
     "output_type": "stream",
     "text": [
      "Downloading...\n",
      "100%|███████████████████████████████████████| 771k/771k [00:00<00:00, 9.92MiB/s]\n",
      "Loading...\n",
      "Done!\n",
      "100%|███████████████████████████████████| 12665/12665 [00:01<00:00, 7763.40it/s]\n"
     ]
    },
    {
     "name": "stdout",
     "output_type": "stream",
     "text": [
      "(8865, 3)\n",
      "val_CYP2C19 dataset\n",
      "\n",
      "Accuracy : 0.7891\n",
      "Precision: 0.78\n",
      "Recall: 0.78\n",
      "Prevalence: 0.48\n",
      "test_CYP2C19 dataset\n",
      "\n",
      "Accuracy : 0.7952\n",
      "Precision: 0.78\n",
      "Recall: 0.81\n",
      "Prevalence: 0.49\n"
     ]
    }
   ],
   "source": [
    "CYP2C19 = from_load_to_model('CYP2C19')"
   ]
  },
  {
   "cell_type": "code",
   "execution_count": 8,
   "id": "ea3f9e6e-36b3-4110-aa02-3d18eedcd81b",
   "metadata": {},
   "outputs": [
    {
     "name": "stderr",
     "output_type": "stream",
     "text": [
      "Downloading...\n",
      "100%|███████████████████████████████████████| 800k/800k [00:00<00:00, 5.54MiB/s]\n",
      "Loading...\n",
      "Done!\n",
      "100%|███████████████████████████████████| 13130/13130 [00:01<00:00, 7567.51it/s]\n"
     ]
    },
    {
     "name": "stdout",
     "output_type": "stream",
     "text": [
      "(9191, 3)\n",
      "val_CYP2D6 dataset\n",
      "\n",
      "Accuracy : 0.8751\n",
      "Precision: 0.71\n",
      "Recall: 0.54\n",
      "Prevalence: 0.18\n",
      "test_CYP2D6 dataset\n",
      "\n",
      "Accuracy : 0.8736\n",
      "Precision: 0.67\n",
      "Recall: 0.49\n",
      "Prevalence: 0.17\n"
     ]
    },
    {
     "name": "stderr",
     "output_type": "stream",
     "text": [
      "Downloading...\n",
      "100%|███████████████████████████████████████| 746k/746k [00:00<00:00, 6.18MiB/s]\n",
      "Loading...\n",
      "Done!\n",
      "100%|███████████████████████████████████| 12328/12328 [00:01<00:00, 7763.33it/s]\n"
     ]
    },
    {
     "name": "stdout",
     "output_type": "stream",
     "text": [
      "(8629, 3)\n",
      "val_CYP3A4 dataset\n",
      "\n",
      "Accuracy : 0.7922\n",
      "Precision: 0.78\n",
      "Recall: 0.74\n",
      "Prevalence: 0.45\n",
      "test_CYP3A4 dataset\n",
      "\n",
      "Accuracy : 0.7864\n",
      "Precision: 0.76\n",
      "Recall: 0.76\n",
      "Prevalence: 0.44\n"
     ]
    },
    {
     "name": "stderr",
     "output_type": "stream",
     "text": [
      "Downloading...\n",
      "100%|███████████████████████████████████████| 760k/760k [00:00<00:00, 3.10MiB/s]\n",
      "Loading...\n",
      "Done!\n",
      "100%|███████████████████████████████████| 12579/12579 [00:01<00:00, 7735.94it/s]\n"
     ]
    },
    {
     "name": "stdout",
     "output_type": "stream",
     "text": [
      "(8805, 3)\n",
      "val_CYP1A2 dataset\n",
      "\n",
      "Accuracy : 0.8258\n",
      "Precision: 0.83\n",
      "Recall: 0.82\n",
      "Prevalence: 0.50\n",
      "test_CYP1A2 dataset\n",
      "\n",
      "Accuracy : 0.8498\n",
      "Precision: 0.87\n",
      "Recall: 0.83\n",
      "Prevalence: 0.50\n"
     ]
    },
    {
     "name": "stderr",
     "output_type": "stream",
     "text": [
      "Downloading...\n",
      "100%|███████████████████████████████████████| 740k/740k [00:00<00:00, 4.82MiB/s]\n",
      "Loading...\n",
      "Done!\n",
      "100%|███████████████████████████████████| 12092/12092 [00:01<00:00, 7686.22it/s]\n"
     ]
    },
    {
     "name": "stdout",
     "output_type": "stream",
     "text": [
      "(8464, 3)\n",
      "val_CYP2C9 dataset\n",
      "\n",
      "Accuracy : 0.7990\n",
      "Precision: 0.71\n",
      "Recall: 0.68\n",
      "Prevalence: 0.33\n",
      "test_CYP2C9 dataset\n",
      "\n",
      "Accuracy : 0.8123\n",
      "Precision: 0.73\n",
      "Recall: 0.65\n",
      "Prevalence: 0.32\n"
     ]
    },
    {
     "name": "stderr",
     "output_type": "stream",
     "text": [
      "Found local copy...\n",
      "Loading...\n",
      "Done!\n",
      "100%|███████████████████████████████████| 12328/12328 [00:01<00:00, 7718.37it/s]\n"
     ]
    },
    {
     "name": "stdout",
     "output_type": "stream",
     "text": [
      "(8629, 3)\n",
      "val_CYP23A4 dataset\n",
      "\n",
      "Accuracy : 0.7922\n",
      "Precision: 0.78\n",
      "Recall: 0.74\n",
      "Prevalence: 0.45\n",
      "test_CYP23A4 dataset\n",
      "\n",
      "Accuracy : 0.7864\n",
      "Precision: 0.76\n",
      "Recall: 0.76\n",
      "Prevalence: 0.44\n"
     ]
    }
   ],
   "source": [
    "CYP2D6 = from_load_to_model('CYP2D6')\n",
    "CYP3A4 = from_load_to_model('CYP3A4')\n",
    "CYP1A2 = from_load_to_model('CYP1A2')\n",
    "CYP2C9 = from_load_to_model('CYP2C9')\n",
    "CYP23A4 = from_load_to_model('CYP23A4')"
   ]
  },
  {
   "cell_type": "code",
   "execution_count": null,
   "id": "c941232f-76db-40cd-99a3-027c01bc8922",
   "metadata": {},
   "outputs": [],
   "source": []
  }
 ],
 "metadata": {
  "kernelspec": {
   "display_name": "mlddenv",
   "language": "python",
   "name": "mlddenv"
  },
  "language_info": {
   "codemirror_mode": {
    "name": "ipython",
    "version": 3
   },
   "file_extension": ".py",
   "mimetype": "text/x-python",
   "name": "python",
   "nbconvert_exporter": "python",
   "pygments_lexer": "ipython3",
   "version": "3.11.8"
  }
 },
 "nbformat": 4,
 "nbformat_minor": 5
}
